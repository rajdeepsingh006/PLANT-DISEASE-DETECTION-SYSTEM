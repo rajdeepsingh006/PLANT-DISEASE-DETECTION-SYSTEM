{
 "cells": [
  {
   "cell_type": "markdown",
   "id": "c77fc331-e412-4f55-a6af-a36dfd9dbf23",
   "metadata": {},
   "source": [
    "# Importing Libraries"
   ]
  },
  {
   "cell_type": "code",
   "execution_count": 2,
   "id": "5d591065-0442-4bad-86c8-5aaf45b92902",
   "metadata": {},
   "outputs": [],
   "source": [
    "import pandas as pd\n",
    "import numpy as np\n",
    "import matplotlib.pyplot as plt\n",
    "import tensorflow as tf\n",
    "import seaborn as sns"
   ]
  },
  {
   "cell_type": "markdown",
   "id": "d45a25c9-5271-4fea-94f2-267ba1f2854f",
   "metadata": {},
   "source": [
    "# Training Test and Valid Set"
   ]
  },
  {
   "cell_type": "code",
   "execution_count": 3,
   "id": "c67e99cb-fb05-40eb-8cdb-86e111068740",
   "metadata": {},
   "outputs": [
    {
     "name": "stdout",
     "output_type": "stream",
     "text": [
      "Found 70295 files belonging to 38 classes.\n"
     ]
    }
   ],
   "source": [
    "training_set=tf.keras.utils.image_dataset_from_directory(\n",
    "    'train',\n",
    "    labels=\"inferred\",\n",
    "    label_mode=\"categorical\",\n",
    "    class_names=None,\n",
    "    color_mode=\"rgb\",\n",
    "    batch_size=32,\n",
    "    image_size=(128, 128),\n",
    "    shuffle=True,\n",
    "    seed=None,\n",
    "    validation_split=None,\n",
    "    subset=None,\n",
    "    interpolation=\"bilinear\",\n",
    "    follow_links=False,\n",
    "    crop_to_aspect_ratio=False,\n",
    "    pad_to_aspect_ratio=False,\n",
    "    data_format=None,\n",
    ")\n"
   ]
  },
  {
   "cell_type": "code",
   "execution_count": 4,
   "id": "52e49fd7-9152-48ad-aee8-4ff61557f307",
   "metadata": {},
   "outputs": [
    {
     "name": "stdout",
     "output_type": "stream",
     "text": [
      "Found 17572 files belonging to 38 classes.\n"
     ]
    }
   ],
   "source": [
    "validation_set=tf.keras.utils.image_dataset_from_directory(\n",
    "    'valid',\n",
    "    labels=\"inferred\",\n",
    "    label_mode=\"categorical\",\n",
    "    class_names=None,\n",
    "    color_mode=\"rgb\",\n",
    "    batch_size=32,\n",
    "    image_size=(128, 128),\n",
    "    shuffle=True,\n",
    "    seed=None,\n",
    "    validation_split=None,\n",
    "    subset=None,\n",
    "    interpolation=\"bilinear\",\n",
    "    follow_links=False,\n",
    "    crop_to_aspect_ratio=False,\n",
    "    pad_to_aspect_ratio=False,\n",
    "    data_format=None,\n",
    ")\n"
   ]
  },
  {
   "cell_type": "code",
   "execution_count": 5,
   "id": "75f63b89-83cd-4a28-9511-7279c9f2af15",
   "metadata": {},
   "outputs": [
    {
     "data": {
      "text/plain": [
       "<_PrefetchDataset element_spec=(TensorSpec(shape=(None, 128, 128, 3), dtype=tf.float32, name=None), TensorSpec(shape=(None, 38), dtype=tf.float32, name=None))>"
      ]
     },
     "execution_count": 5,
     "metadata": {},
     "output_type": "execute_result"
    }
   ],
   "source": [
    "training_set"
   ]
  },
  {
   "cell_type": "code",
   "execution_count": 6,
   "id": "39b39fbc-80e0-4bf5-84ab-7f3d99783933",
   "metadata": {},
   "outputs": [
    {
     "name": "stdout",
     "output_type": "stream",
     "text": [
      "tf.Tensor(\n",
      "[[[[113.   107.   119.  ]\n",
      "   [117.25 111.25 123.25]\n",
      "   [111.25 105.25 117.25]\n",
      "   ...\n",
      "   [116.5  109.5  125.5 ]\n",
      "   [113.25 106.25 122.25]\n",
      "   [112.5  105.5  121.5 ]]\n",
      "\n",
      "  [[114.75 108.75 120.75]\n",
      "   [114.75 108.75 120.75]\n",
      "   [102.25  96.25 108.25]\n",
      "   ...\n",
      "   [114.   107.   123.  ]\n",
      "   [124.75 117.75 133.75]\n",
      "   [112.75 105.75 121.75]]\n",
      "\n",
      "  [[109.75 103.75 115.75]\n",
      "   [111.5  105.5  117.5 ]\n",
      "   [105.75  99.75 111.75]\n",
      "   ...\n",
      "   [114.25 107.25 123.25]\n",
      "   [117.   110.   126.  ]\n",
      "   [116.75 109.75 125.75]]\n",
      "\n",
      "  ...\n",
      "\n",
      "  [[148.75 140.75 155.75]\n",
      "   [147.75 139.75 154.75]\n",
      "   [151.   143.   158.  ]\n",
      "   ...\n",
      "   [152.   143.   160.  ]\n",
      "   [150.   141.   158.  ]\n",
      "   [148.5  139.5  156.5 ]]\n",
      "\n",
      "  [[147.25 139.25 154.25]\n",
      "   [146.5  138.5  153.5 ]\n",
      "   [149.5  141.5  156.5 ]\n",
      "   ...\n",
      "   [152.25 143.25 160.25]\n",
      "   [151.   142.   159.  ]\n",
      "   [150.25 141.25 158.25]]\n",
      "\n",
      "  [[150.   142.   157.  ]\n",
      "   [147.75 139.75 154.75]\n",
      "   [149.   141.   156.  ]\n",
      "   ...\n",
      "   [150.   141.   158.  ]\n",
      "   [151.25 142.25 159.25]\n",
      "   [152.   143.   160.  ]]]\n",
      "\n",
      "\n",
      " [[[164.75 159.75 155.75]\n",
      "   [169.   164.   160.  ]\n",
      "   [166.75 161.75 157.75]\n",
      "   ...\n",
      "   [204.5  202.5  205.5 ]\n",
      "   [202.5  200.5  203.5 ]\n",
      "   [202.5  200.5  203.5 ]]\n",
      "\n",
      "  [[167.25 162.25 158.25]\n",
      "   [164.25 159.25 155.25]\n",
      "   [171.25 166.25 162.25]\n",
      "   ...\n",
      "   [209.25 207.25 210.25]\n",
      "   [204.75 202.75 205.75]\n",
      "   [202.5  200.5  203.5 ]]\n",
      "\n",
      "  [[163.25 158.25 154.25]\n",
      "   [159.75 154.75 150.75]\n",
      "   [171.25 166.25 162.25]\n",
      "   ...\n",
      "   [205.5  203.5  206.5 ]\n",
      "   [196.75 194.75 197.75]\n",
      "   [196.25 194.25 197.25]]\n",
      "\n",
      "  ...\n",
      "\n",
      "  [[152.25 142.25 140.25]\n",
      "   [136.5  126.5  124.5 ]\n",
      "   [145.   135.   133.  ]\n",
      "   ...\n",
      "   [161.25 155.25 157.25]\n",
      "   [159.5  153.5  155.5 ]\n",
      "   [157.25 151.25 153.25]]\n",
      "\n",
      "  [[153.5  143.5  141.5 ]\n",
      "   [143.75 133.75 131.75]\n",
      "   [149.5  139.5  137.5 ]\n",
      "   ...\n",
      "   [168.5  162.5  164.5 ]\n",
      "   [167.25 161.25 163.25]\n",
      "   [152.25 146.25 148.25]]\n",
      "\n",
      "  [[145.25 135.25 133.25]\n",
      "   [148.75 138.75 136.75]\n",
      "   [146.75 136.75 134.75]\n",
      "   ...\n",
      "   [155.   149.   151.  ]\n",
      "   [158.25 152.25 154.25]\n",
      "   [152.   146.   148.  ]]]\n",
      "\n",
      "\n",
      " [[[159.   153.   163.  ]\n",
      "   [157.75 151.75 161.75]\n",
      "   [157.   151.   161.  ]\n",
      "   ...\n",
      "   [143.25 137.25 147.25]\n",
      "   [134.   128.   138.  ]\n",
      "   [134.75 128.75 138.75]]\n",
      "\n",
      "  [[147.   141.   151.  ]\n",
      "   [154.   148.   158.  ]\n",
      "   [154.   148.   158.  ]\n",
      "   ...\n",
      "   [137.5  131.5  141.5 ]\n",
      "   [134.75 128.75 138.75]\n",
      "   [140.   134.   144.  ]]\n",
      "\n",
      "  [[151.75 145.75 155.75]\n",
      "   [152.   146.   156.  ]\n",
      "   [144.75 138.75 148.75]\n",
      "   ...\n",
      "   [140.   134.   144.  ]\n",
      "   [130.5  124.5  134.5 ]\n",
      "   [128.75 122.75 132.75]]\n",
      "\n",
      "  ...\n",
      "\n",
      "  [[182.75 179.75 190.75]\n",
      "   [178.   175.   186.  ]\n",
      "   [179.25 176.25 187.25]\n",
      "   ...\n",
      "   [166.5  160.5  172.5 ]\n",
      "   [165.75 159.75 171.75]\n",
      "   [165.5  159.5  171.5 ]]\n",
      "\n",
      "  [[178.75 175.75 186.75]\n",
      "   [177.25 174.25 185.25]\n",
      "   [180.   177.   188.  ]\n",
      "   ...\n",
      "   [167.75 161.75 173.75]\n",
      "   [166.75 160.75 172.75]\n",
      "   [168.25 162.25 174.25]]\n",
      "\n",
      "  [[174.25 171.25 182.25]\n",
      "   [178.25 175.25 186.25]\n",
      "   [182.5  179.5  190.5 ]\n",
      "   ...\n",
      "   [164.   158.   170.  ]\n",
      "   [163.5  157.5  169.5 ]\n",
      "   [165.75 159.75 171.75]]]\n",
      "\n",
      "\n",
      " ...\n",
      "\n",
      "\n",
      " [[[ 82.75  87.75 109.75]\n",
      "   [ 83.75  88.75 110.75]\n",
      "   [ 85.    90.   112.  ]\n",
      "   ...\n",
      "   [ 84.5   85.5  103.5 ]\n",
      "   [ 99.75 100.75 118.75]\n",
      "   [ 97.75  98.75 116.75]]\n",
      "\n",
      "  [[ 81.25  86.25 108.25]\n",
      "   [ 86.    91.   113.  ]\n",
      "   [ 82.25  87.25 109.25]\n",
      "   ...\n",
      "   [ 86.25  87.25 105.25]\n",
      "   [ 93.    94.   112.  ]\n",
      "   [ 99.75 100.75 118.75]]\n",
      "\n",
      "  [[ 79.25  84.25 106.25]\n",
      "   [ 83.    88.   110.  ]\n",
      "   [ 81.25  86.25 108.25]\n",
      "   ...\n",
      "   [ 98.75  99.75 117.75]\n",
      "   [ 89.25  90.25 108.25]\n",
      "   [103.75 104.75 122.75]]\n",
      "\n",
      "  ...\n",
      "\n",
      "  [[112.5  118.5  144.5 ]\n",
      "   [112.25 118.25 144.25]\n",
      "   [110.5  116.5  142.5 ]\n",
      "   ...\n",
      "   [151.25 154.25 171.25]\n",
      "   [154.25 157.25 174.25]\n",
      "   [150.   153.   170.  ]]\n",
      "\n",
      "  [[111.75 117.75 143.75]\n",
      "   [113.   119.   145.  ]\n",
      "   [110.25 116.25 142.25]\n",
      "   ...\n",
      "   [152.25 155.25 172.25]\n",
      "   [152.   155.   172.  ]\n",
      "   [151.75 154.75 171.75]]\n",
      "\n",
      "  [[114.5  120.5  146.5 ]\n",
      "   [116.5  122.5  148.5 ]\n",
      "   [113.   119.   145.  ]\n",
      "   ...\n",
      "   [151.75 154.75 171.75]\n",
      "   [151.   154.   171.  ]\n",
      "   [154.75 157.75 174.75]]]\n",
      "\n",
      "\n",
      " [[[123.75 109.75 106.75]\n",
      "   [125.25 111.25 108.25]\n",
      "   [123.25 109.25 106.25]\n",
      "   ...\n",
      "   [147.5  133.5  132.5 ]\n",
      "   [147.5  133.5  132.5 ]\n",
      "   [148.   134.   133.  ]]\n",
      "\n",
      "  [[120.75 106.75 103.75]\n",
      "   [125.25 111.25 108.25]\n",
      "   [115.25 101.25  98.25]\n",
      "   ...\n",
      "   [144.25 130.25 129.25]\n",
      "   [144.   130.   129.  ]\n",
      "   [151.5  137.5  136.5 ]]\n",
      "\n",
      "  [[117.75 103.75 100.75]\n",
      "   [131.25 117.25 114.25]\n",
      "   [118.75 104.75 101.75]\n",
      "   ...\n",
      "   [140.   126.   125.  ]\n",
      "   [139.   125.   124.  ]\n",
      "   [140.   126.   125.  ]]\n",
      "\n",
      "  ...\n",
      "\n",
      "  [[134.25 120.25 119.25]\n",
      "   [137.75 123.75 122.75]\n",
      "   [132.75 118.75 117.75]\n",
      "   ...\n",
      "   [157.25 145.25 145.25]\n",
      "   [156.75 144.75 144.75]\n",
      "   [152.   140.   140.  ]]\n",
      "\n",
      "  [[136.25 122.25 121.25]\n",
      "   [132.75 118.75 117.75]\n",
      "   [139.75 125.75 124.75]\n",
      "   ...\n",
      "   [156.   144.   144.  ]\n",
      "   [160.5  148.5  148.5 ]\n",
      "   [161.5  149.5  149.5 ]]\n",
      "\n",
      "  [[141.   127.   126.  ]\n",
      "   [138.75 124.75 123.75]\n",
      "   [144.25 130.25 129.25]\n",
      "   ...\n",
      "   [155.   143.   143.  ]\n",
      "   [154.5  142.5  142.5 ]\n",
      "   [156.5  144.5  144.5 ]]]\n",
      "\n",
      "\n",
      " [[[141.75 109.5   96.25]\n",
      "   [176.5  144.5  116.25]\n",
      "   [158.25 132.5   86.5 ]\n",
      "   ...\n",
      "   [  8.5    8.5    7.25]\n",
      "   [  0.5    1.25   3.75]\n",
      "   [  4.5    8.    13.75]]\n",
      "\n",
      "  [[ 16.25   6.25   1.5 ]\n",
      "   [ 78.    64.    46.75]\n",
      "   [159.25 146.   105.5 ]\n",
      "   ...\n",
      "   [  5.25   5.25   4.  ]\n",
      "   [  1.75   2.5    4.75]\n",
      "   [  3.     5.75   9.75]]\n",
      "\n",
      "  [[  1.     6.     3.  ]\n",
      "   [  8.25  10.25   3.  ]\n",
      "   [ 31.5   30.    11.25]\n",
      "   ...\n",
      "   [  4.     4.25   2.5 ]\n",
      "   [  3.25   4.     5.25]\n",
      "   [  4.5    4.75   6.75]]\n",
      "\n",
      "  ...\n",
      "\n",
      "  [[  0.     0.     0.  ]\n",
      "   [  0.     0.     0.  ]\n",
      "   [  0.     0.     0.  ]\n",
      "   ...\n",
      "   [  0.     0.     0.  ]\n",
      "   [  0.     0.     0.  ]\n",
      "   [  0.     0.     0.  ]]\n",
      "\n",
      "  [[  0.     0.     0.  ]\n",
      "   [  0.     0.     0.  ]\n",
      "   [  0.     0.     0.  ]\n",
      "   ...\n",
      "   [  0.     0.     0.  ]\n",
      "   [  0.     0.     0.  ]\n",
      "   [  0.     0.     0.  ]]\n",
      "\n",
      "  [[  0.     0.     0.  ]\n",
      "   [  0.     0.     0.  ]\n",
      "   [  0.     0.     0.  ]\n",
      "   ...\n",
      "   [  0.     0.     0.  ]\n",
      "   [  0.     0.     0.  ]\n",
      "   [  0.     0.     0.  ]]]], shape=(32, 128, 128, 3), dtype=float32) (32, 128, 128, 3)\n",
      "tf.Tensor(\n",
      "[[0. 0. 0. ... 0. 0. 0.]\n",
      " [0. 0. 0. ... 0. 0. 0.]\n",
      " [0. 0. 0. ... 0. 0. 0.]\n",
      " ...\n",
      " [0. 0. 0. ... 0. 0. 0.]\n",
      " [0. 0. 0. ... 0. 0. 0.]\n",
      " [0. 0. 0. ... 0. 0. 0.]], shape=(32, 38), dtype=float32) (32, 38)\n"
     ]
    }
   ],
   "source": [
    "for x,y in training_set:\n",
    "        print(x,x.shape)\n",
    "        print(y,y.shape)\n",
    "        break"
   ]
  },
  {
   "cell_type": "markdown",
   "id": "dd0176f8-634c-4605-8ac3-876dd3838c1f",
   "metadata": {},
   "source": [
    "# Importing Libraries For Model and Layers\n"
   ]
  },
  {
   "cell_type": "code",
   "execution_count": 7,
   "id": "afb556c4-aaee-418e-a950-dcf8cc60c6ba",
   "metadata": {},
   "outputs": [],
   "source": [
    "from tensorflow.keras.layers import Flatten,Dense,Conv2D,MaxPool2D,Dropout\n",
    "from tensorflow.keras.models import Sequential"
   ]
  },
  {
   "cell_type": "markdown",
   "id": "7b602093-b3bd-4e52-b4bd-de0fa60d6bdd",
   "metadata": {},
   "source": [
    "# Creating Model"
   ]
  },
  {
   "cell_type": "code",
   "execution_count": 8,
   "id": "ac5263ad-5fe1-4a40-b236-9a291d8bdf58",
   "metadata": {},
   "outputs": [],
   "source": [
    "model=Sequential()"
   ]
  },
  {
   "cell_type": "markdown",
   "id": "146e1bcf-7455-44aa-aad8-3f1278632a1c",
   "metadata": {},
   "source": [
    "# Adding Convolution Neural Network"
   ]
  },
  {
   "cell_type": "code",
   "execution_count": 9,
   "id": "f447f4c8-083f-4da9-a114-8504ff4ae956",
   "metadata": {},
   "outputs": [
    {
     "name": "stderr",
     "output_type": "stream",
     "text": [
      "C:\\Users\\rajde\\anaconda3\\Lib\\site-packages\\keras\\src\\layers\\convolutional\\base_conv.py:107: UserWarning: Do not pass an `input_shape`/`input_dim` argument to a layer. When using Sequential models, prefer using an `Input(shape)` object as the first layer in the model instead.\n",
      "  super().__init__(activity_regularizer=activity_regularizer, **kwargs)\n"
     ]
    }
   ],
   "source": [
    "model.add(Conv2D(filters=32,kernel_size=3,padding='same',activation='relu',input_shape=[128,128,3]))\n",
    "model.add(Conv2D(filters=32,kernel_size=3,activation='relu'))\n",
    "model.add(MaxPool2D(pool_size=2,strides=2))"
   ]
  },
  {
   "cell_type": "code",
   "execution_count": 10,
   "id": "3139a757-43d7-4e05-ae89-241fe8895f5a",
   "metadata": {},
   "outputs": [],
   "source": [
    "model.add(Conv2D(filters=64,kernel_size=3,padding='same',activation='relu'))\n",
    "model.add(Conv2D(filters=64,kernel_size=3,activation='relu'))\n",
    "model.add(MaxPool2D(pool_size=2,strides=2))"
   ]
  },
  {
   "cell_type": "code",
   "execution_count": 11,
   "id": "75952e03-3784-47b1-957d-8c1f2b44fdf5",
   "metadata": {},
   "outputs": [],
   "source": [
    "model.add(Conv2D(filters=128,kernel_size=3,padding='same',activation='relu'))\n",
    "model.add(Conv2D(filters=128,kernel_size=3,activation='relu'))\n",
    "model.add(MaxPool2D(pool_size=2,strides=2))"
   ]
  },
  {
   "cell_type": "code",
   "execution_count": 12,
   "id": "88dacc65-3604-4d84-80e9-14d8971581ef",
   "metadata": {},
   "outputs": [],
   "source": [
    "model.add(Conv2D(filters=256,kernel_size=3,padding='same',activation='relu'))\n",
    "model.add(Conv2D(filters=256,kernel_size=3,activation='relu'))\n",
    "model.add(MaxPool2D(pool_size=2,strides=2))"
   ]
  },
  {
   "cell_type": "code",
   "execution_count": 13,
   "id": "a05f50df-a972-424b-840f-addff901f4f1",
   "metadata": {},
   "outputs": [],
   "source": [
    "model.add(Conv2D(filters=512,kernel_size=3,padding='same',activation='relu'))\n",
    "model.add(Conv2D(filters=512,kernel_size=3,activation='relu'))\n",
    "model.add(MaxPool2D(pool_size=2,strides=2))"
   ]
  },
  {
   "cell_type": "markdown",
   "id": "b26c4311-a456-4437-b843-4476d4b88c76",
   "metadata": {},
   "source": [
    "### Dropping excess data to avoid overfitting"
   ]
  },
  {
   "cell_type": "code",
   "execution_count": 14,
   "id": "3f76c97c-08fc-4218-ab12-9cb18e3b1db2",
   "metadata": {},
   "outputs": [],
   "source": [
    "model.add(Dropout(0.25))"
   ]
  },
  {
   "cell_type": "markdown",
   "id": "9bfe30d2-4ed3-4b66-8364-06adc7565dbb",
   "metadata": {},
   "source": [
    "### Falttening the feature map after pooling"
   ]
  },
  {
   "cell_type": "code",
   "execution_count": 15,
   "id": "22c2918c-5827-44a3-bb92-cf4fce07edb8",
   "metadata": {},
   "outputs": [],
   "source": [
    "model.add(Flatten())"
   ]
  },
  {
   "cell_type": "markdown",
   "id": "75c15936-4177-4c45-a050-2affdf92853d",
   "metadata": {},
   "source": [
    "### Adding Dense layer"
   ]
  },
  {
   "cell_type": "code",
   "execution_count": 16,
   "id": "8a815f9d-a35f-4910-8b95-2dcc0254033c",
   "metadata": {},
   "outputs": [],
   "source": [
    "model.add(Dense(units=1500,activation='relu'))"
   ]
  },
  {
   "cell_type": "code",
   "execution_count": 17,
   "id": "31c59fef-4a92-432b-9126-6dbac6f7e012",
   "metadata": {},
   "outputs": [],
   "source": [
    "model.add(Dropout(0.4))"
   ]
  },
  {
   "cell_type": "markdown",
   "id": "381bbb34-6510-4246-948f-ed05c45b7bb8",
   "metadata": {},
   "source": [
    "### Adding 38 classes of our test and valid data"
   ]
  },
  {
   "cell_type": "code",
   "execution_count": 18,
   "id": "ae875020-0f34-475a-a630-ad8b81359ff3",
   "metadata": {},
   "outputs": [],
   "source": [
    "model.add(Dense(units=38,activation='softmax'))"
   ]
  },
  {
   "cell_type": "markdown",
   "id": "0dc20755-2790-4c70-a54d-ebc8365b43ab",
   "metadata": {},
   "source": [
    "# Compiling Model"
   ]
  },
  {
   "cell_type": "code",
   "execution_count": 19,
   "id": "136b72d9-ac8c-4667-bba0-4be838c743ac",
   "metadata": {},
   "outputs": [],
   "source": [
    "model.compile(optimizer=tf.keras.optimizers.Adam(\n",
    "    learning_rate=0.0001,#To avoid overshooting\n",
    "    beta_1=0.9,\n",
    "    beta_2=0.999,\n",
    "    epsilon=1e-07,\n",
    "    amsgrad=False,\n",
    "    weight_decay=None,\n",
    "    clipnorm=None,\n",
    "    clipvalue=None,\n",
    "    global_clipnorm=None,\n",
    "    use_ema=False,\n",
    "    ema_momentum=0.99,\n",
    "    ema_overwrite_frequency=None,\n",
    "    loss_scale_factor=None,\n",
    "    gradient_accumulation_steps=None,\n",
    "    name=\"adam\",\n",
    "   \n",
    ")\n",
    ",loss='categorical_crossentropy',metrics=['accuracy'])"
   ]
  },
  {
   "cell_type": "code",
   "execution_count": 20,
   "id": "08cdcecc-217a-4103-b6c0-ca9e0da02535",
   "metadata": {
    "scrolled": true
   },
   "outputs": [
    {
     "data": {
      "text/html": [
       "<pre style=\"white-space:pre;overflow-x:auto;line-height:normal;font-family:Menlo,'DejaVu Sans Mono',consolas,'Courier New',monospace\"><span style=\"font-weight: bold\">Model: \"sequential\"</span>\n",
       "</pre>\n"
      ],
      "text/plain": [
       "\u001b[1mModel: \"sequential\"\u001b[0m\n"
      ]
     },
     "metadata": {},
     "output_type": "display_data"
    },
    {
     "data": {
      "text/html": [
       "<pre style=\"white-space:pre;overflow-x:auto;line-height:normal;font-family:Menlo,'DejaVu Sans Mono',consolas,'Courier New',monospace\">┏━━━━━━━━━━━━━━━━━━━━━━━━━━━━━━━━━━━━━━┳━━━━━━━━━━━━━━━━━━━━━━━━━━━━━┳━━━━━━━━━━━━━━━━━┓\n",
       "┃<span style=\"font-weight: bold\"> Layer (type)                         </span>┃<span style=\"font-weight: bold\"> Output Shape                </span>┃<span style=\"font-weight: bold\">         Param # </span>┃\n",
       "┡━━━━━━━━━━━━━━━━━━━━━━━━━━━━━━━━━━━━━━╇━━━━━━━━━━━━━━━━━━━━━━━━━━━━━╇━━━━━━━━━━━━━━━━━┩\n",
       "│ conv2d (<span style=\"color: #0087ff; text-decoration-color: #0087ff\">Conv2D</span>)                      │ (<span style=\"color: #00d7ff; text-decoration-color: #00d7ff\">None</span>, <span style=\"color: #00af00; text-decoration-color: #00af00\">128</span>, <span style=\"color: #00af00; text-decoration-color: #00af00\">128</span>, <span style=\"color: #00af00; text-decoration-color: #00af00\">32</span>)        │             <span style=\"color: #00af00; text-decoration-color: #00af00\">896</span> │\n",
       "├──────────────────────────────────────┼─────────────────────────────┼─────────────────┤\n",
       "│ conv2d_1 (<span style=\"color: #0087ff; text-decoration-color: #0087ff\">Conv2D</span>)                    │ (<span style=\"color: #00d7ff; text-decoration-color: #00d7ff\">None</span>, <span style=\"color: #00af00; text-decoration-color: #00af00\">126</span>, <span style=\"color: #00af00; text-decoration-color: #00af00\">126</span>, <span style=\"color: #00af00; text-decoration-color: #00af00\">32</span>)        │           <span style=\"color: #00af00; text-decoration-color: #00af00\">9,248</span> │\n",
       "├──────────────────────────────────────┼─────────────────────────────┼─────────────────┤\n",
       "│ max_pooling2d (<span style=\"color: #0087ff; text-decoration-color: #0087ff\">MaxPooling2D</span>)         │ (<span style=\"color: #00d7ff; text-decoration-color: #00d7ff\">None</span>, <span style=\"color: #00af00; text-decoration-color: #00af00\">63</span>, <span style=\"color: #00af00; text-decoration-color: #00af00\">63</span>, <span style=\"color: #00af00; text-decoration-color: #00af00\">32</span>)          │               <span style=\"color: #00af00; text-decoration-color: #00af00\">0</span> │\n",
       "├──────────────────────────────────────┼─────────────────────────────┼─────────────────┤\n",
       "│ conv2d_2 (<span style=\"color: #0087ff; text-decoration-color: #0087ff\">Conv2D</span>)                    │ (<span style=\"color: #00d7ff; text-decoration-color: #00d7ff\">None</span>, <span style=\"color: #00af00; text-decoration-color: #00af00\">63</span>, <span style=\"color: #00af00; text-decoration-color: #00af00\">63</span>, <span style=\"color: #00af00; text-decoration-color: #00af00\">64</span>)          │          <span style=\"color: #00af00; text-decoration-color: #00af00\">18,496</span> │\n",
       "├──────────────────────────────────────┼─────────────────────────────┼─────────────────┤\n",
       "│ conv2d_3 (<span style=\"color: #0087ff; text-decoration-color: #0087ff\">Conv2D</span>)                    │ (<span style=\"color: #00d7ff; text-decoration-color: #00d7ff\">None</span>, <span style=\"color: #00af00; text-decoration-color: #00af00\">61</span>, <span style=\"color: #00af00; text-decoration-color: #00af00\">61</span>, <span style=\"color: #00af00; text-decoration-color: #00af00\">64</span>)          │          <span style=\"color: #00af00; text-decoration-color: #00af00\">36,928</span> │\n",
       "├──────────────────────────────────────┼─────────────────────────────┼─────────────────┤\n",
       "│ max_pooling2d_1 (<span style=\"color: #0087ff; text-decoration-color: #0087ff\">MaxPooling2D</span>)       │ (<span style=\"color: #00d7ff; text-decoration-color: #00d7ff\">None</span>, <span style=\"color: #00af00; text-decoration-color: #00af00\">30</span>, <span style=\"color: #00af00; text-decoration-color: #00af00\">30</span>, <span style=\"color: #00af00; text-decoration-color: #00af00\">64</span>)          │               <span style=\"color: #00af00; text-decoration-color: #00af00\">0</span> │\n",
       "├──────────────────────────────────────┼─────────────────────────────┼─────────────────┤\n",
       "│ conv2d_4 (<span style=\"color: #0087ff; text-decoration-color: #0087ff\">Conv2D</span>)                    │ (<span style=\"color: #00d7ff; text-decoration-color: #00d7ff\">None</span>, <span style=\"color: #00af00; text-decoration-color: #00af00\">30</span>, <span style=\"color: #00af00; text-decoration-color: #00af00\">30</span>, <span style=\"color: #00af00; text-decoration-color: #00af00\">128</span>)         │          <span style=\"color: #00af00; text-decoration-color: #00af00\">73,856</span> │\n",
       "├──────────────────────────────────────┼─────────────────────────────┼─────────────────┤\n",
       "│ conv2d_5 (<span style=\"color: #0087ff; text-decoration-color: #0087ff\">Conv2D</span>)                    │ (<span style=\"color: #00d7ff; text-decoration-color: #00d7ff\">None</span>, <span style=\"color: #00af00; text-decoration-color: #00af00\">28</span>, <span style=\"color: #00af00; text-decoration-color: #00af00\">28</span>, <span style=\"color: #00af00; text-decoration-color: #00af00\">128</span>)         │         <span style=\"color: #00af00; text-decoration-color: #00af00\">147,584</span> │\n",
       "├──────────────────────────────────────┼─────────────────────────────┼─────────────────┤\n",
       "│ max_pooling2d_2 (<span style=\"color: #0087ff; text-decoration-color: #0087ff\">MaxPooling2D</span>)       │ (<span style=\"color: #00d7ff; text-decoration-color: #00d7ff\">None</span>, <span style=\"color: #00af00; text-decoration-color: #00af00\">14</span>, <span style=\"color: #00af00; text-decoration-color: #00af00\">14</span>, <span style=\"color: #00af00; text-decoration-color: #00af00\">128</span>)         │               <span style=\"color: #00af00; text-decoration-color: #00af00\">0</span> │\n",
       "├──────────────────────────────────────┼─────────────────────────────┼─────────────────┤\n",
       "│ conv2d_6 (<span style=\"color: #0087ff; text-decoration-color: #0087ff\">Conv2D</span>)                    │ (<span style=\"color: #00d7ff; text-decoration-color: #00d7ff\">None</span>, <span style=\"color: #00af00; text-decoration-color: #00af00\">14</span>, <span style=\"color: #00af00; text-decoration-color: #00af00\">14</span>, <span style=\"color: #00af00; text-decoration-color: #00af00\">256</span>)         │         <span style=\"color: #00af00; text-decoration-color: #00af00\">295,168</span> │\n",
       "├──────────────────────────────────────┼─────────────────────────────┼─────────────────┤\n",
       "│ conv2d_7 (<span style=\"color: #0087ff; text-decoration-color: #0087ff\">Conv2D</span>)                    │ (<span style=\"color: #00d7ff; text-decoration-color: #00d7ff\">None</span>, <span style=\"color: #00af00; text-decoration-color: #00af00\">12</span>, <span style=\"color: #00af00; text-decoration-color: #00af00\">12</span>, <span style=\"color: #00af00; text-decoration-color: #00af00\">256</span>)         │         <span style=\"color: #00af00; text-decoration-color: #00af00\">590,080</span> │\n",
       "├──────────────────────────────────────┼─────────────────────────────┼─────────────────┤\n",
       "│ max_pooling2d_3 (<span style=\"color: #0087ff; text-decoration-color: #0087ff\">MaxPooling2D</span>)       │ (<span style=\"color: #00d7ff; text-decoration-color: #00d7ff\">None</span>, <span style=\"color: #00af00; text-decoration-color: #00af00\">6</span>, <span style=\"color: #00af00; text-decoration-color: #00af00\">6</span>, <span style=\"color: #00af00; text-decoration-color: #00af00\">256</span>)           │               <span style=\"color: #00af00; text-decoration-color: #00af00\">0</span> │\n",
       "├──────────────────────────────────────┼─────────────────────────────┼─────────────────┤\n",
       "│ conv2d_8 (<span style=\"color: #0087ff; text-decoration-color: #0087ff\">Conv2D</span>)                    │ (<span style=\"color: #00d7ff; text-decoration-color: #00d7ff\">None</span>, <span style=\"color: #00af00; text-decoration-color: #00af00\">6</span>, <span style=\"color: #00af00; text-decoration-color: #00af00\">6</span>, <span style=\"color: #00af00; text-decoration-color: #00af00\">512</span>)           │       <span style=\"color: #00af00; text-decoration-color: #00af00\">1,180,160</span> │\n",
       "├──────────────────────────────────────┼─────────────────────────────┼─────────────────┤\n",
       "│ conv2d_9 (<span style=\"color: #0087ff; text-decoration-color: #0087ff\">Conv2D</span>)                    │ (<span style=\"color: #00d7ff; text-decoration-color: #00d7ff\">None</span>, <span style=\"color: #00af00; text-decoration-color: #00af00\">4</span>, <span style=\"color: #00af00; text-decoration-color: #00af00\">4</span>, <span style=\"color: #00af00; text-decoration-color: #00af00\">512</span>)           │       <span style=\"color: #00af00; text-decoration-color: #00af00\">2,359,808</span> │\n",
       "├──────────────────────────────────────┼─────────────────────────────┼─────────────────┤\n",
       "│ max_pooling2d_4 (<span style=\"color: #0087ff; text-decoration-color: #0087ff\">MaxPooling2D</span>)       │ (<span style=\"color: #00d7ff; text-decoration-color: #00d7ff\">None</span>, <span style=\"color: #00af00; text-decoration-color: #00af00\">2</span>, <span style=\"color: #00af00; text-decoration-color: #00af00\">2</span>, <span style=\"color: #00af00; text-decoration-color: #00af00\">512</span>)           │               <span style=\"color: #00af00; text-decoration-color: #00af00\">0</span> │\n",
       "├──────────────────────────────────────┼─────────────────────────────┼─────────────────┤\n",
       "│ dropout (<span style=\"color: #0087ff; text-decoration-color: #0087ff\">Dropout</span>)                    │ (<span style=\"color: #00d7ff; text-decoration-color: #00d7ff\">None</span>, <span style=\"color: #00af00; text-decoration-color: #00af00\">2</span>, <span style=\"color: #00af00; text-decoration-color: #00af00\">2</span>, <span style=\"color: #00af00; text-decoration-color: #00af00\">512</span>)           │               <span style=\"color: #00af00; text-decoration-color: #00af00\">0</span> │\n",
       "├──────────────────────────────────────┼─────────────────────────────┼─────────────────┤\n",
       "│ flatten (<span style=\"color: #0087ff; text-decoration-color: #0087ff\">Flatten</span>)                    │ (<span style=\"color: #00d7ff; text-decoration-color: #00d7ff\">None</span>, <span style=\"color: #00af00; text-decoration-color: #00af00\">2048</span>)                │               <span style=\"color: #00af00; text-decoration-color: #00af00\">0</span> │\n",
       "├──────────────────────────────────────┼─────────────────────────────┼─────────────────┤\n",
       "│ dense (<span style=\"color: #0087ff; text-decoration-color: #0087ff\">Dense</span>)                        │ (<span style=\"color: #00d7ff; text-decoration-color: #00d7ff\">None</span>, <span style=\"color: #00af00; text-decoration-color: #00af00\">1500</span>)                │       <span style=\"color: #00af00; text-decoration-color: #00af00\">3,073,500</span> │\n",
       "├──────────────────────────────────────┼─────────────────────────────┼─────────────────┤\n",
       "│ dropout_1 (<span style=\"color: #0087ff; text-decoration-color: #0087ff\">Dropout</span>)                  │ (<span style=\"color: #00d7ff; text-decoration-color: #00d7ff\">None</span>, <span style=\"color: #00af00; text-decoration-color: #00af00\">1500</span>)                │               <span style=\"color: #00af00; text-decoration-color: #00af00\">0</span> │\n",
       "├──────────────────────────────────────┼─────────────────────────────┼─────────────────┤\n",
       "│ dense_1 (<span style=\"color: #0087ff; text-decoration-color: #0087ff\">Dense</span>)                      │ (<span style=\"color: #00d7ff; text-decoration-color: #00d7ff\">None</span>, <span style=\"color: #00af00; text-decoration-color: #00af00\">38</span>)                  │          <span style=\"color: #00af00; text-decoration-color: #00af00\">57,038</span> │\n",
       "└──────────────────────────────────────┴─────────────────────────────┴─────────────────┘\n",
       "</pre>\n"
      ],
      "text/plain": [
       "┏━━━━━━━━━━━━━━━━━━━━━━━━━━━━━━━━━━━━━━┳━━━━━━━━━━━━━━━━━━━━━━━━━━━━━┳━━━━━━━━━━━━━━━━━┓\n",
       "┃\u001b[1m \u001b[0m\u001b[1mLayer (type)                        \u001b[0m\u001b[1m \u001b[0m┃\u001b[1m \u001b[0m\u001b[1mOutput Shape               \u001b[0m\u001b[1m \u001b[0m┃\u001b[1m \u001b[0m\u001b[1m        Param #\u001b[0m\u001b[1m \u001b[0m┃\n",
       "┡━━━━━━━━━━━━━━━━━━━━━━━━━━━━━━━━━━━━━━╇━━━━━━━━━━━━━━━━━━━━━━━━━━━━━╇━━━━━━━━━━━━━━━━━┩\n",
       "│ conv2d (\u001b[38;5;33mConv2D\u001b[0m)                      │ (\u001b[38;5;45mNone\u001b[0m, \u001b[38;5;34m128\u001b[0m, \u001b[38;5;34m128\u001b[0m, \u001b[38;5;34m32\u001b[0m)        │             \u001b[38;5;34m896\u001b[0m │\n",
       "├──────────────────────────────────────┼─────────────────────────────┼─────────────────┤\n",
       "│ conv2d_1 (\u001b[38;5;33mConv2D\u001b[0m)                    │ (\u001b[38;5;45mNone\u001b[0m, \u001b[38;5;34m126\u001b[0m, \u001b[38;5;34m126\u001b[0m, \u001b[38;5;34m32\u001b[0m)        │           \u001b[38;5;34m9,248\u001b[0m │\n",
       "├──────────────────────────────────────┼─────────────────────────────┼─────────────────┤\n",
       "│ max_pooling2d (\u001b[38;5;33mMaxPooling2D\u001b[0m)         │ (\u001b[38;5;45mNone\u001b[0m, \u001b[38;5;34m63\u001b[0m, \u001b[38;5;34m63\u001b[0m, \u001b[38;5;34m32\u001b[0m)          │               \u001b[38;5;34m0\u001b[0m │\n",
       "├──────────────────────────────────────┼─────────────────────────────┼─────────────────┤\n",
       "│ conv2d_2 (\u001b[38;5;33mConv2D\u001b[0m)                    │ (\u001b[38;5;45mNone\u001b[0m, \u001b[38;5;34m63\u001b[0m, \u001b[38;5;34m63\u001b[0m, \u001b[38;5;34m64\u001b[0m)          │          \u001b[38;5;34m18,496\u001b[0m │\n",
       "├──────────────────────────────────────┼─────────────────────────────┼─────────────────┤\n",
       "│ conv2d_3 (\u001b[38;5;33mConv2D\u001b[0m)                    │ (\u001b[38;5;45mNone\u001b[0m, \u001b[38;5;34m61\u001b[0m, \u001b[38;5;34m61\u001b[0m, \u001b[38;5;34m64\u001b[0m)          │          \u001b[38;5;34m36,928\u001b[0m │\n",
       "├──────────────────────────────────────┼─────────────────────────────┼─────────────────┤\n",
       "│ max_pooling2d_1 (\u001b[38;5;33mMaxPooling2D\u001b[0m)       │ (\u001b[38;5;45mNone\u001b[0m, \u001b[38;5;34m30\u001b[0m, \u001b[38;5;34m30\u001b[0m, \u001b[38;5;34m64\u001b[0m)          │               \u001b[38;5;34m0\u001b[0m │\n",
       "├──────────────────────────────────────┼─────────────────────────────┼─────────────────┤\n",
       "│ conv2d_4 (\u001b[38;5;33mConv2D\u001b[0m)                    │ (\u001b[38;5;45mNone\u001b[0m, \u001b[38;5;34m30\u001b[0m, \u001b[38;5;34m30\u001b[0m, \u001b[38;5;34m128\u001b[0m)         │          \u001b[38;5;34m73,856\u001b[0m │\n",
       "├──────────────────────────────────────┼─────────────────────────────┼─────────────────┤\n",
       "│ conv2d_5 (\u001b[38;5;33mConv2D\u001b[0m)                    │ (\u001b[38;5;45mNone\u001b[0m, \u001b[38;5;34m28\u001b[0m, \u001b[38;5;34m28\u001b[0m, \u001b[38;5;34m128\u001b[0m)         │         \u001b[38;5;34m147,584\u001b[0m │\n",
       "├──────────────────────────────────────┼─────────────────────────────┼─────────────────┤\n",
       "│ max_pooling2d_2 (\u001b[38;5;33mMaxPooling2D\u001b[0m)       │ (\u001b[38;5;45mNone\u001b[0m, \u001b[38;5;34m14\u001b[0m, \u001b[38;5;34m14\u001b[0m, \u001b[38;5;34m128\u001b[0m)         │               \u001b[38;5;34m0\u001b[0m │\n",
       "├──────────────────────────────────────┼─────────────────────────────┼─────────────────┤\n",
       "│ conv2d_6 (\u001b[38;5;33mConv2D\u001b[0m)                    │ (\u001b[38;5;45mNone\u001b[0m, \u001b[38;5;34m14\u001b[0m, \u001b[38;5;34m14\u001b[0m, \u001b[38;5;34m256\u001b[0m)         │         \u001b[38;5;34m295,168\u001b[0m │\n",
       "├──────────────────────────────────────┼─────────────────────────────┼─────────────────┤\n",
       "│ conv2d_7 (\u001b[38;5;33mConv2D\u001b[0m)                    │ (\u001b[38;5;45mNone\u001b[0m, \u001b[38;5;34m12\u001b[0m, \u001b[38;5;34m12\u001b[0m, \u001b[38;5;34m256\u001b[0m)         │         \u001b[38;5;34m590,080\u001b[0m │\n",
       "├──────────────────────────────────────┼─────────────────────────────┼─────────────────┤\n",
       "│ max_pooling2d_3 (\u001b[38;5;33mMaxPooling2D\u001b[0m)       │ (\u001b[38;5;45mNone\u001b[0m, \u001b[38;5;34m6\u001b[0m, \u001b[38;5;34m6\u001b[0m, \u001b[38;5;34m256\u001b[0m)           │               \u001b[38;5;34m0\u001b[0m │\n",
       "├──────────────────────────────────────┼─────────────────────────────┼─────────────────┤\n",
       "│ conv2d_8 (\u001b[38;5;33mConv2D\u001b[0m)                    │ (\u001b[38;5;45mNone\u001b[0m, \u001b[38;5;34m6\u001b[0m, \u001b[38;5;34m6\u001b[0m, \u001b[38;5;34m512\u001b[0m)           │       \u001b[38;5;34m1,180,160\u001b[0m │\n",
       "├──────────────────────────────────────┼─────────────────────────────┼─────────────────┤\n",
       "│ conv2d_9 (\u001b[38;5;33mConv2D\u001b[0m)                    │ (\u001b[38;5;45mNone\u001b[0m, \u001b[38;5;34m4\u001b[0m, \u001b[38;5;34m4\u001b[0m, \u001b[38;5;34m512\u001b[0m)           │       \u001b[38;5;34m2,359,808\u001b[0m │\n",
       "├──────────────────────────────────────┼─────────────────────────────┼─────────────────┤\n",
       "│ max_pooling2d_4 (\u001b[38;5;33mMaxPooling2D\u001b[0m)       │ (\u001b[38;5;45mNone\u001b[0m, \u001b[38;5;34m2\u001b[0m, \u001b[38;5;34m2\u001b[0m, \u001b[38;5;34m512\u001b[0m)           │               \u001b[38;5;34m0\u001b[0m │\n",
       "├──────────────────────────────────────┼─────────────────────────────┼─────────────────┤\n",
       "│ dropout (\u001b[38;5;33mDropout\u001b[0m)                    │ (\u001b[38;5;45mNone\u001b[0m, \u001b[38;5;34m2\u001b[0m, \u001b[38;5;34m2\u001b[0m, \u001b[38;5;34m512\u001b[0m)           │               \u001b[38;5;34m0\u001b[0m │\n",
       "├──────────────────────────────────────┼─────────────────────────────┼─────────────────┤\n",
       "│ flatten (\u001b[38;5;33mFlatten\u001b[0m)                    │ (\u001b[38;5;45mNone\u001b[0m, \u001b[38;5;34m2048\u001b[0m)                │               \u001b[38;5;34m0\u001b[0m │\n",
       "├──────────────────────────────────────┼─────────────────────────────┼─────────────────┤\n",
       "│ dense (\u001b[38;5;33mDense\u001b[0m)                        │ (\u001b[38;5;45mNone\u001b[0m, \u001b[38;5;34m1500\u001b[0m)                │       \u001b[38;5;34m3,073,500\u001b[0m │\n",
       "├──────────────────────────────────────┼─────────────────────────────┼─────────────────┤\n",
       "│ dropout_1 (\u001b[38;5;33mDropout\u001b[0m)                  │ (\u001b[38;5;45mNone\u001b[0m, \u001b[38;5;34m1500\u001b[0m)                │               \u001b[38;5;34m0\u001b[0m │\n",
       "├──────────────────────────────────────┼─────────────────────────────┼─────────────────┤\n",
       "│ dense_1 (\u001b[38;5;33mDense\u001b[0m)                      │ (\u001b[38;5;45mNone\u001b[0m, \u001b[38;5;34m38\u001b[0m)                  │          \u001b[38;5;34m57,038\u001b[0m │\n",
       "└──────────────────────────────────────┴─────────────────────────────┴─────────────────┘\n"
      ]
     },
     "metadata": {},
     "output_type": "display_data"
    },
    {
     "data": {
      "text/html": [
       "<pre style=\"white-space:pre;overflow-x:auto;line-height:normal;font-family:Menlo,'DejaVu Sans Mono',consolas,'Courier New',monospace\"><span style=\"font-weight: bold\"> Total params: </span><span style=\"color: #00af00; text-decoration-color: #00af00\">7,842,762</span> (29.92 MB)\n",
       "</pre>\n"
      ],
      "text/plain": [
       "\u001b[1m Total params: \u001b[0m\u001b[38;5;34m7,842,762\u001b[0m (29.92 MB)\n"
      ]
     },
     "metadata": {},
     "output_type": "display_data"
    },
    {
     "data": {
      "text/html": [
       "<pre style=\"white-space:pre;overflow-x:auto;line-height:normal;font-family:Menlo,'DejaVu Sans Mono',consolas,'Courier New',monospace\"><span style=\"font-weight: bold\"> Trainable params: </span><span style=\"color: #00af00; text-decoration-color: #00af00\">7,842,762</span> (29.92 MB)\n",
       "</pre>\n"
      ],
      "text/plain": [
       "\u001b[1m Trainable params: \u001b[0m\u001b[38;5;34m7,842,762\u001b[0m (29.92 MB)\n"
      ]
     },
     "metadata": {},
     "output_type": "display_data"
    },
    {
     "data": {
      "text/html": [
       "<pre style=\"white-space:pre;overflow-x:auto;line-height:normal;font-family:Menlo,'DejaVu Sans Mono',consolas,'Courier New',monospace\"><span style=\"font-weight: bold\"> Non-trainable params: </span><span style=\"color: #00af00; text-decoration-color: #00af00\">0</span> (0.00 B)\n",
       "</pre>\n"
      ],
      "text/plain": [
       "\u001b[1m Non-trainable params: \u001b[0m\u001b[38;5;34m0\u001b[0m (0.00 B)\n"
      ]
     },
     "metadata": {},
     "output_type": "display_data"
    }
   ],
   "source": [
    "model.summary()"
   ]
  },
  {
   "cell_type": "markdown",
   "id": "3117f6f0-39ca-4917-96bb-8e6b79cb5a74",
   "metadata": {},
   "source": [
    "# Training model on training and validation set "
   ]
  },
  {
   "cell_type": "code",
   "execution_count": 21,
   "id": "a3bc762d-c0b2-4fbc-a163-bafd540899a1",
   "metadata": {},
   "outputs": [
    {
     "name": "stdout",
     "output_type": "stream",
     "text": [
      "Epoch 1/10\n",
      "\u001b[1m2197/2197\u001b[0m \u001b[32m━━━━━━━━━━━━━━━━━━━━\u001b[0m\u001b[37m\u001b[0m \u001b[1m1469s\u001b[0m 666ms/step - accuracy: 0.3878 - loss: 2.1856 - val_accuracy: 0.7948 - val_loss: 0.6521\n",
      "Epoch 2/10\n",
      "\u001b[1m2197/2197\u001b[0m \u001b[32m━━━━━━━━━━━━━━━━━━━━\u001b[0m\u001b[37m\u001b[0m \u001b[1m1380s\u001b[0m 628ms/step - accuracy: 0.8345 - loss: 0.5259 - val_accuracy: 0.9110 - val_loss: 0.2765\n",
      "Epoch 3/10\n",
      "\u001b[1m2197/2197\u001b[0m \u001b[32m━━━━━━━━━━━━━━━━━━━━\u001b[0m\u001b[37m\u001b[0m \u001b[1m2392s\u001b[0m 1s/step - accuracy: 0.9008 - loss: 0.3057 - val_accuracy: 0.8859 - val_loss: 0.3665\n",
      "Epoch 4/10\n",
      "\u001b[1m2197/2197\u001b[0m \u001b[32m━━━━━━━━━━━━━━━━━━━━\u001b[0m\u001b[37m\u001b[0m \u001b[1m8926s\u001b[0m 4s/step - accuracy: 0.9343 - loss: 0.2071 - val_accuracy: 0.9357 - val_loss: 0.1979\n",
      "Epoch 5/10\n",
      "\u001b[1m2197/2197\u001b[0m \u001b[32m━━━━━━━━━━━━━━━━━━━━\u001b[0m\u001b[37m\u001b[0m \u001b[1m2512s\u001b[0m 1s/step - accuracy: 0.9494 - loss: 0.1549 - val_accuracy: 0.9384 - val_loss: 0.1978\n",
      "Epoch 6/10\n",
      "\u001b[1m2197/2197\u001b[0m \u001b[32m━━━━━━━━━━━━━━━━━━━━\u001b[0m\u001b[37m\u001b[0m \u001b[1m1266s\u001b[0m 576ms/step - accuracy: 0.9606 - loss: 0.1216 - val_accuracy: 0.9574 - val_loss: 0.1384\n",
      "Epoch 7/10\n",
      "\u001b[1m2197/2197\u001b[0m \u001b[32m━━━━━━━━━━━━━━━━━━━━\u001b[0m\u001b[37m\u001b[0m \u001b[1m1277s\u001b[0m 581ms/step - accuracy: 0.9720 - loss: 0.0860 - val_accuracy: 0.9641 - val_loss: 0.1277\n",
      "Epoch 8/10\n",
      "\u001b[1m2197/2197\u001b[0m \u001b[32m━━━━━━━━━━━━━━━━━━━━\u001b[0m\u001b[37m\u001b[0m \u001b[1m1264s\u001b[0m 576ms/step - accuracy: 0.9735 - loss: 0.0809 - val_accuracy: 0.9529 - val_loss: 0.1623\n",
      "Epoch 9/10\n",
      "\u001b[1m2197/2197\u001b[0m \u001b[32m━━━━━━━━━━━━━━━━━━━━\u001b[0m\u001b[37m\u001b[0m \u001b[1m1421s\u001b[0m 647ms/step - accuracy: 0.9792 - loss: 0.0658 - val_accuracy: 0.9484 - val_loss: 0.1768\n",
      "Epoch 10/10\n",
      "\u001b[1m2197/2197\u001b[0m \u001b[32m━━━━━━━━━━━━━━━━━━━━\u001b[0m\u001b[37m\u001b[0m \u001b[1m1365s\u001b[0m 622ms/step - accuracy: 0.9797 - loss: 0.0634 - val_accuracy: 0.9554 - val_loss: 0.1621\n"
     ]
    }
   ],
   "source": [
    "training_history= model.fit(x=training_set,validation_data=validation_set,epochs=10)"
   ]
  },
  {
   "cell_type": "markdown",
   "id": "350eaef0-3c8f-4126-add9-114fea0089b1",
   "metadata": {},
   "source": [
    "# Evaluating the training and validation set"
   ]
  },
  {
   "cell_type": "code",
   "execution_count": 22,
   "id": "4cdd605f-e9a3-4beb-94f0-1ab86afef2b0",
   "metadata": {},
   "outputs": [
    {
     "name": "stdout",
     "output_type": "stream",
     "text": [
      "\u001b[1m2197/2197\u001b[0m \u001b[32m━━━━━━━━━━━━━━━━━━━━\u001b[0m\u001b[37m\u001b[0m \u001b[1m299s\u001b[0m 136ms/step - accuracy: 0.9814 - loss: 0.0588\n"
     ]
    }
   ],
   "source": [
    "training_loss,training_accu = model.evaluate(training_set)"
   ]
  },
  {
   "cell_type": "code",
   "execution_count": 23,
   "id": "c9ec1c38-36ce-4395-a7eb-eb270b52532a",
   "metadata": {},
   "outputs": [
    {
     "name": "stdout",
     "output_type": "stream",
     "text": [
      "0.05478965863585472 0.9827584028244019\n"
     ]
    }
   ],
   "source": [
    "print(training_loss,training_accu)"
   ]
  },
  {
   "cell_type": "code",
   "execution_count": 24,
   "id": "3ee0b352-1e40-433c-9e66-f6580aa53636",
   "metadata": {},
   "outputs": [
    {
     "name": "stdout",
     "output_type": "stream",
     "text": [
      "\u001b[1m550/550\u001b[0m \u001b[32m━━━━━━━━━━━━━━━━━━━━\u001b[0m\u001b[37m\u001b[0m \u001b[1m81s\u001b[0m 148ms/step - accuracy: 0.9551 - loss: 0.1563\n"
     ]
    }
   ],
   "source": [
    "validation_loss,validation_accu = model.evaluate(validation_set)"
   ]
  },
  {
   "cell_type": "code",
   "execution_count": 25,
   "id": "e7295d89-7785-4fee-b314-839bb4dd0938",
   "metadata": {},
   "outputs": [
    {
     "name": "stdout",
     "output_type": "stream",
     "text": [
      "0.16210104525089264 0.9554404616355896\n"
     ]
    }
   ],
   "source": [
    "print(validation_loss,validation_accu)"
   ]
  },
  {
   "cell_type": "markdown",
   "id": "5bfbc3ee-4039-492d-99a2-e0c67964db72",
   "metadata": {},
   "source": [
    "# Saving Model"
   ]
  },
  {
   "cell_type": "code",
   "execution_count": 58,
   "id": "d99a29ff-e9f5-4d9c-9098-e6f7e6acc75d",
   "metadata": {},
   "outputs": [],
   "source": [
    "model.save('Trained_Model.keras')"
   ]
  },
  {
   "cell_type": "code",
   "execution_count": 59,
   "id": "83010c09-507e-4a7d-87d4-ec0e699f1618",
   "metadata": {},
   "outputs": [
    {
     "name": "stderr",
     "output_type": "stream",
     "text": [
      "WARNING:absl:You are saving your model as an HDF5 file via `model.save()` or `keras.saving.save_model(model)`. This file format is considered legacy. We recommend using instead the native Keras format, e.g. `model.save('my_model.keras')` or `keras.saving.save_model(model, 'my_model.keras')`. \n"
     ]
    }
   ],
   "source": [
    "model.save('Trained_Model.h5')"
   ]
  },
  {
   "cell_type": "code",
   "execution_count": 43,
   "id": "aad4c4ad-1ea6-480a-8f30-b12038b4d0d8",
   "metadata": {},
   "outputs": [
    {
     "data": {
      "text/plain": [
       "{'accuracy': [0.5930436253547668,\n",
       "  0.8576854467391968,\n",
       "  0.9109609723091125,\n",
       "  0.938245952129364,\n",
       "  0.9532541632652283,\n",
       "  0.9633544087409973,\n",
       "  0.9715626835823059,\n",
       "  0.9746923446655273,\n",
       "  0.9803969264030457,\n",
       "  0.9803115725517273],\n",
       " 'loss': [1.3860158920288086,\n",
       "  0.44864532351493835,\n",
       "  0.2724829912185669,\n",
       "  0.19170646369457245,\n",
       "  0.14375272393226624,\n",
       "  0.11313764750957489,\n",
       "  0.0864502489566803,\n",
       "  0.07744164019823074,\n",
       "  0.061553146690130234,\n",
       "  0.0606522262096405],\n",
       " 'val_accuracy': [0.7948440909385681,\n",
       "  0.9109947681427002,\n",
       "  0.8858979940414429,\n",
       "  0.9356931447982788,\n",
       "  0.9383678436279297,\n",
       "  0.9574322700500488,\n",
       "  0.9640905857086182,\n",
       "  0.9528796076774597,\n",
       "  0.9483838081359863,\n",
       "  0.9554404616355896],\n",
       " 'val_loss': [0.6520680785179138,\n",
       "  0.2764723300933838,\n",
       "  0.3664591908454895,\n",
       "  0.1978520303964615,\n",
       "  0.19778087735176086,\n",
       "  0.13838770985603333,\n",
       "  0.12766921520233154,\n",
       "  0.16230149567127228,\n",
       "  0.17681068181991577,\n",
       "  0.16210104525089264]}"
      ]
     },
     "execution_count": 43,
     "metadata": {},
     "output_type": "execute_result"
    }
   ],
   "source": [
    "training_history.history"
   ]
  },
  {
   "cell_type": "markdown",
   "id": "d9b31e42-cdec-4ed4-8bfd-e21ccc7586cc",
   "metadata": {},
   "source": [
    "# Recording training history"
   ]
  },
  {
   "cell_type": "code",
   "execution_count": 44,
   "id": "0b917419-fadf-4766-8741-1670bc8156c7",
   "metadata": {},
   "outputs": [],
   "source": [
    "import json\n",
    "with open(\"Training_Hist.json\",\"w\") as f:\n",
    "    json.dump(training_history.history,f)"
   ]
  },
  {
   "cell_type": "code",
   "execution_count": 45,
   "id": "780f188f-c7b0-4780-9502-94aa88381aa6",
   "metadata": {},
   "outputs": [
    {
     "data": {
      "text/plain": [
       "[0.5930436253547668,\n",
       " 0.8576854467391968,\n",
       " 0.9109609723091125,\n",
       " 0.938245952129364,\n",
       " 0.9532541632652283,\n",
       " 0.9633544087409973,\n",
       " 0.9715626835823059,\n",
       " 0.9746923446655273,\n",
       " 0.9803969264030457,\n",
       " 0.9803115725517273]"
      ]
     },
     "execution_count": 45,
     "metadata": {},
     "output_type": "execute_result"
    }
   ],
   "source": [
    "training_history.history['accuracy']"
   ]
  },
  {
   "cell_type": "markdown",
   "id": "bff7d593-6442-48f0-81f4-6e2b4345b118",
   "metadata": {},
   "source": [
    "# Visualizing Accuracy "
   ]
  },
  {
   "cell_type": "code",
   "execution_count": 46,
   "id": "dbaad5eb-bf67-4514-9f9e-382fc40436ab",
   "metadata": {},
   "outputs": [
    {
     "data": {
      "image/png": "[encoded data removed]",
      "text/plain": [
       "<Figure size 640x480 with 1 Axes>"
      ]
     },
     "metadata": {},
     "output_type": "display_data"
    }
   ],
   "source": [
    "epochs = [i for i in range(1,11)]\n",
    "plt.plot(epochs,training_history.history['accuracy'],color='green',label='Training Accuracy')\n",
    "plt.plot(epochs,training_history.history['val_accuracy'],color='blue',label='Validation Accuracy')\n",
    "plt.xlabel(\"No. of Epochs\")\n",
    "plt.ylabel(\"Accuracy\")\n",
    "plt.title(\"Visualization of Accuracy Result\")\n",
    "plt.legend()\n",
    "plt.show()"
   ]
  },
  {
   "cell_type": "markdown",
   "id": "87db40eb-ad50-4af5-9627-24aee7cc5ffe",
   "metadata": {},
   "source": [
    "# Visualizing Loss"
   ]
  },
  {
   "cell_type": "code",
   "execution_count": 47,
   "id": "19f79380-fcc2-4c63-9389-d30443c7d83a",
   "metadata": {},
   "outputs": [
    {
     "data": {
      "image/png": "[encoded data removed]",
      "text/plain": [
       "<Figure size 640x480 with 1 Axes>"
      ]
     },
     "metadata": {},
     "output_type": "display_data"
    }
   ],
   "source": [
    "epochs = [i for i in range(1,11)]\n",
    "plt.plot(epochs,training_history.history['loss'],color='red',label='Training Loss')\n",
    "plt.plot(epochs,training_history.history['val_loss'],color='yellow',label='Validation Loss')\n",
    "plt.xlabel(\"No. of Epochs\")\n",
    "plt.ylabel(\"Loss\")\n",
    "plt.title(\"Visualization of Loss Result\")\n",
    "plt.legend()\n",
    "plt.show()"
   ]
  },
  {
   "cell_type": "markdown",
   "id": "48e9b242-5d3f-43fb-b9f7-06a914d031ad",
   "metadata": {},
   "source": [
    "# Evaluating on other basis"
   ]
  },
  {
   "cell_type": "code",
   "execution_count": 48,
   "id": "10f1b790-5791-4b8f-a788-bec89f5906e6",
   "metadata": {},
   "outputs": [
    {
     "data": {
      "text/plain": [
       "['Apple___Apple_scab',\n",
       " 'Apple___Black_rot',\n",
       " 'Apple___Cedar_apple_rust',\n",
       " 'Apple___healthy',\n",
       " 'Blueberry___healthy',\n",
       " 'Cherry_(including_sour)___Powdery_mildew',\n",
       " 'Cherry_(including_sour)___healthy',\n",
       " 'Corn_(maize)___Cercospora_leaf_spot Gray_leaf_spot',\n",
       " 'Corn_(maize)___Common_rust_',\n",
       " 'Corn_(maize)___Northern_Leaf_Blight',\n",
       " 'Corn_(maize)___healthy',\n",
       " 'Grape___Black_rot',\n",
       " 'Grape___Esca_(Black_Measles)',\n",
       " 'Grape___Leaf_blight_(Isariopsis_Leaf_Spot)',\n",
       " 'Grape___healthy',\n",
       " 'Orange___Haunglongbing_(Citrus_greening)',\n",
       " 'Peach___Bacterial_spot',\n",
       " 'Peach___healthy',\n",
       " 'Pepper,_bell___Bacterial_spot',\n",
       " 'Pepper,_bell___healthy',\n",
       " 'Potato___Early_blight',\n",
       " 'Potato___Late_blight',\n",
       " 'Potato___healthy',\n",
       " 'Raspberry___healthy',\n",
       " 'Soybean___healthy',\n",
       " 'Squash___Powdery_mildew',\n",
       " 'Strawberry___Leaf_scorch',\n",
       " 'Strawberry___healthy',\n",
       " 'Tomato___Bacterial_spot',\n",
       " 'Tomato___Early_blight',\n",
       " 'Tomato___Late_blight',\n",
       " 'Tomato___Leaf_Mold',\n",
       " 'Tomato___Septoria_leaf_spot',\n",
       " 'Tomato___Spider_mites Two-spotted_spider_mite',\n",
       " 'Tomato___Target_Spot',\n",
       " 'Tomato___Tomato_Yellow_Leaf_Curl_Virus',\n",
       " 'Tomato___Tomato_mosaic_virus',\n",
       " 'Tomato___healthy']"
      ]
     },
     "execution_count": 48,
     "metadata": {},
     "output_type": "execute_result"
    }
   ],
   "source": [
    "class_name=validation_set.class_names\n",
    "class_name"
   ]
  },
  {
   "cell_type": "code",
   "execution_count": 49,
   "id": "b8243729-42e2-499d-aa2b-83154236f362",
   "metadata": {},
   "outputs": [
    {
     "name": "stdout",
     "output_type": "stream",
     "text": [
      "Found 17572 files belonging to 38 classes.\n"
     ]
    }
   ],
   "source": [
    "test_set=tf.keras.utils.image_dataset_from_directory(\n",
    "    'valid',\n",
    "    labels=\"inferred\",\n",
    "    label_mode=\"categorical\",\n",
    "    class_names=None,\n",
    "    color_mode=\"rgb\",\n",
    "    batch_size=32,\n",
    "    image_size=(128, 128),\n",
    "    shuffle=False,\n",
    "    seed=None,\n",
    "    validation_split=None,\n",
    "    subset=None,\n",
    "    interpolation=\"bilinear\",\n",
    "    follow_links=False,\n",
    "    crop_to_aspect_ratio=False,\n",
    "    pad_to_aspect_ratio=False,\n",
    "    data_format=None,\n",
    ")\n"
   ]
  },
  {
   "cell_type": "markdown",
   "id": "e930c64e-0144-42a2-8cb9-cdb5ec5e5da6",
   "metadata": {},
   "source": [
    "### Predicting the data among the 38 classes"
   ]
  },
  {
   "cell_type": "code",
   "execution_count": 50,
   "id": "7e6dd0c9-f29e-4c15-9e7b-235a1ac453d1",
   "metadata": {},
   "outputs": [
    {
     "name": "stdout",
     "output_type": "stream",
     "text": [
      "\u001b[1m550/550\u001b[0m \u001b[32m━━━━━━━━━━━━━━━━━━━━\u001b[0m\u001b[37m\u001b[0m \u001b[1m79s\u001b[0m 144ms/step\n"
     ]
    },
    {
     "data": {
      "text/plain": [
       "(array([[9.99999166e-01, 2.03668158e-08, 1.18745387e-11, ...,\n",
       "         2.53160784e-16, 2.29084347e-14, 3.72325148e-15],\n",
       "        [9.99930978e-01, 6.60326123e-07, 8.54284998e-09, ...,\n",
       "         3.68338362e-13, 4.11505655e-13, 1.70119572e-12],\n",
       "        [9.99999881e-01, 2.77244316e-09, 3.69681202e-10, ...,\n",
       "         3.37141305e-15, 6.99696247e-12, 4.13996051e-12],\n",
       "        ...,\n",
       "        [4.00629308e-09, 9.25244516e-12, 8.92211638e-09, ...,\n",
       "         4.14600326e-10, 1.20647137e-09, 9.99963999e-01],\n",
       "        [2.51564688e-06, 1.50691537e-09, 2.40684221e-06, ...,\n",
       "         6.38811969e-07, 1.11869056e-07, 9.99354422e-01],\n",
       "        [2.28921840e-10, 6.13156956e-11, 2.01091925e-08, ...,\n",
       "         1.12635223e-09, 3.18041998e-07, 9.99880672e-01]], dtype=float32),\n",
       " (17572, 38))"
      ]
     },
     "execution_count": 50,
     "metadata": {},
     "output_type": "execute_result"
    }
   ],
   "source": [
    "y_pred=model.predict(test_set)\n",
    "y_pred,y_pred.shape"
   ]
  },
  {
   "cell_type": "code",
   "execution_count": 51,
   "id": "273b91ba-59a1-4f26-a361-c532769cba48",
   "metadata": {},
   "outputs": [
    {
     "data": {
      "text/plain": [
       "<tf.Tensor: shape=(17572,), dtype=int64, numpy=array([ 0,  0,  0, ..., 37, 37, 37], dtype=int64)>"
      ]
     },
     "execution_count": 51,
     "metadata": {},
     "output_type": "execute_result"
    }
   ],
   "source": [
    "predicted_categories=tf.argmax(y_pred,axis=1) #argmax gives the index value of the class that has the max probability \n",
    "predicted_categories                          #axis=1 means checking along the row"
   ]
  },
  {
   "cell_type": "markdown",
   "id": "d806fd89-eacf-43b5-9e5b-d2b33958224a",
   "metadata": {},
   "source": [
    "### predicting data inside each class"
   ]
  },
  {
   "cell_type": "code",
   "execution_count": 52,
   "id": "4a3763ea-0cd7-4d0a-b052-3e8e542ac911",
   "metadata": {},
   "outputs": [
    {
     "data": {
      "text/plain": [
       "<tf.Tensor: shape=(17572, 38), dtype=float32, numpy=\n",
       "array([[1., 0., 0., ..., 0., 0., 0.],\n",
       "       [1., 0., 0., ..., 0., 0., 0.],\n",
       "       [1., 0., 0., ..., 0., 0., 0.],\n",
       "       ...,\n",
       "       [0., 0., 0., ..., 0., 0., 1.],\n",
       "       [0., 0., 0., ..., 0., 0., 1.],\n",
       "       [0., 0., 0., ..., 0., 0., 1.]], dtype=float32)>"
      ]
     },
     "execution_count": 52,
     "metadata": {},
     "output_type": "execute_result"
    }
   ],
   "source": [
    "true_categories=tf.concat([y for x,y in test_set],axis=0)   #concat gives the index value of the image among a particular class\n",
    "true_categories                                          #axis=0 means checking along the column"
   ]
  },
  {
   "cell_type": "code",
   "execution_count": 53,
   "id": "dd72b4c1-9d39-4a77-a6a8-75eaf566d39e",
   "metadata": {},
   "outputs": [
    {
     "data": {
      "text/plain": [
       "<tf.Tensor: shape=(17572,), dtype=int64, numpy=array([ 0,  0,  0, ..., 37, 37, 37], dtype=int64)>"
      ]
     },
     "execution_count": 53,
     "metadata": {},
     "output_type": "execute_result"
    }
   ],
   "source": [
    "y_true=tf.argmax(true_categories,axis=1)\n",
    "y_true"
   ]
  },
  {
   "cell_type": "markdown",
   "id": "b5740662-ae5a-4019-9de0-29e86e8b086b",
   "metadata": {},
   "source": [
    "# Calculating Precision, Recall and F1 Score"
   ]
  },
  {
   "cell_type": "code",
   "execution_count": 54,
   "id": "54dca4ab-24aa-410f-8be9-c566f6c8ec75",
   "metadata": {},
   "outputs": [],
   "source": [
    "from sklearn.metrics import classification_report"
   ]
  },
  {
   "cell_type": "code",
   "execution_count": 55,
   "id": "e7172b2d-1668-49cf-9c6e-b695d5453359",
   "metadata": {},
   "outputs": [
    {
     "name": "stdout",
     "output_type": "stream",
     "text": [
      "                                                    precision    recall  f1-score   support\n",
      "\n",
      "                                Apple___Apple_scab       0.90      0.98      0.94       504\n",
      "                                 Apple___Black_rot       1.00      0.95      0.97       497\n",
      "                          Apple___Cedar_apple_rust       0.89      1.00      0.94       440\n",
      "                                   Apple___healthy       0.96      0.93      0.94       502\n",
      "                               Blueberry___healthy       0.96      0.95      0.96       454\n",
      "          Cherry_(including_sour)___Powdery_mildew       0.98      0.98      0.98       421\n",
      "                 Cherry_(including_sour)___healthy       0.91      0.99      0.95       456\n",
      "Corn_(maize)___Cercospora_leaf_spot Gray_leaf_spot       0.92      0.92      0.92       410\n",
      "                       Corn_(maize)___Common_rust_       1.00      0.99      0.99       477\n",
      "               Corn_(maize)___Northern_Leaf_Blight       0.93      0.96      0.94       477\n",
      "                            Corn_(maize)___healthy       1.00      0.95      0.98       465\n",
      "                                 Grape___Black_rot       0.96      1.00      0.98       472\n",
      "                      Grape___Esca_(Black_Measles)       1.00      0.98      0.99       480\n",
      "        Grape___Leaf_blight_(Isariopsis_Leaf_Spot)       0.99      0.98      0.99       430\n",
      "                                   Grape___healthy       0.99      0.99      0.99       423\n",
      "          Orange___Haunglongbing_(Citrus_greening)       0.90      1.00      0.95       503\n",
      "                            Peach___Bacterial_spot       0.94      0.96      0.95       459\n",
      "                                   Peach___healthy       0.89      1.00      0.94       432\n",
      "                     Pepper,_bell___Bacterial_spot       0.91      0.98      0.95       478\n",
      "                            Pepper,_bell___healthy       0.95      0.90      0.92       497\n",
      "                             Potato___Early_blight       0.99      0.99      0.99       485\n",
      "                              Potato___Late_blight       0.94      0.96      0.95       485\n",
      "                                  Potato___healthy       1.00      0.88      0.93       456\n",
      "                               Raspberry___healthy       1.00      0.96      0.97       445\n",
      "                                 Soybean___healthy       0.99      0.97      0.98       505\n",
      "                           Squash___Powdery_mildew       0.94      1.00      0.97       434\n",
      "                          Strawberry___Leaf_scorch       1.00      0.97      0.98       444\n",
      "                              Strawberry___healthy       1.00      0.97      0.99       456\n",
      "                           Tomato___Bacterial_spot       0.93      0.97      0.95       425\n",
      "                             Tomato___Early_blight       0.91      0.90      0.91       480\n",
      "                              Tomato___Late_blight       0.95      0.90      0.92       463\n",
      "                                Tomato___Leaf_Mold       0.94      0.95      0.94       470\n",
      "                       Tomato___Septoria_leaf_spot       0.94      0.83      0.88       436\n",
      "     Tomato___Spider_mites Two-spotted_spider_mite       0.96      0.94      0.95       435\n",
      "                              Tomato___Target_Spot       0.92      0.88      0.90       457\n",
      "            Tomato___Tomato_Yellow_Leaf_Curl_Virus       0.97      1.00      0.99       490\n",
      "                      Tomato___Tomato_mosaic_virus       0.99      0.98      0.98       448\n",
      "                                  Tomato___healthy       1.00      0.92      0.96       481\n",
      "\n",
      "                                          accuracy                           0.96     17572\n",
      "                                         macro avg       0.96      0.96      0.96     17572\n",
      "                                      weighted avg       0.96      0.96      0.96     17572\n",
      "\n"
     ]
    }
   ],
   "source": [
    "print(classification_report(y_true,predicted_categories,target_names=class_name))  \n",
    "#F1 score is the Harmonic mean of precision and recall"
   ]
  },
  {
   "cell_type": "markdown",
   "id": "0f584dab-8274-45d7-bf05-a365d6c84126",
   "metadata": {},
   "source": [
    "# Calculating Confusion Matrix"
   ]
  },
  {
   "cell_type": "code",
   "execution_count": 56,
   "id": "8b034fdd-6c83-43c2-a4a3-207e28f2aee8",
   "metadata": {},
   "outputs": [
    {
     "data": {
      "text/plain": [
       "array([[493,   0,   0, ...,   0,   0,   0],\n",
       "       [  6, 471,   2, ...,   0,   0,   0],\n",
       "       [  0,   0, 439, ...,   0,   0,   0],\n",
       "       ...,\n",
       "       [  0,   0,   0, ..., 489,   0,   0],\n",
       "       [  0,   0,   1, ...,   0, 437,   0],\n",
       "       [  4,   0,   9, ...,   0,   0, 444]], dtype=int64)"
      ]
     },
     "execution_count": 56,
     "metadata": {},
     "output_type": "execute_result"
    }
   ],
   "source": [
    "from sklearn.metrics import confusion_matrix\n",
    "cm=confusion_matrix(y_true,predicted_categories)\n",
    "cm"
   ]
  },
  {
   "cell_type": "code",
   "execution_count": 57,
   "id": "d2cd6ca4-4f18-412f-af8e-ec86416132a9",
   "metadata": {},
   "outputs": [
    {
     "data": {
      "image/png": "[encoded data removed]",
      "text/plain": [
       "<Figure size 4000x4000 with 2 Axes>"
      ]
     },
     "metadata": {},
     "output_type": "display_data"
    }
   ],
   "source": [
    "plt.figure(figsize=(40,40))\n",
    "sns.heatmap(cm,annot=True,annot_kws={'size':10})\n",
    "plt.xlabel(\"Predicted Class\",fontsize=20)\n",
    "plt.ylabel(\"Actual Class\",fontsize=20)\n",
    "plt.title(\"Confusion Matrix\",fontsize=30)\n",
    "plt.show()\n"
   ]
  },
  {
   "cell_type": "code",
   "execution_count": null,
   "id": "70ef7104-8e79-4061-bdb8-364a91ec38bd",
   "metadata": {},
   "outputs": [],
   "source": []
  },
  {
   "cell_type": "code",
   "execution_count": null,
   "id": "4ae133ba-55db-4be5-a451-58ff8399d6d9",
   "metadata": {},
   "outputs": [],
   "source": []
  },
  {
   "cell_type": "code",
   "execution_count": null,
   "id": "e4ba7b6e-af4e-4270-9142-a88bd6783110",
   "metadata": {},
   "outputs": [],
   "source": []
  },
  {
   "cell_type": "code",
   "execution_count": null,
   "id": "82201084-cf39-412d-89a2-1f1430d65146",
   "metadata": {},
   "outputs": [],
   "source": []
  }
 ],
 "metadata": {
  "kernelspec": {
   "display_name": "Python 3 (ipykernel)",
   "language": "python",
   "name": "python3"
  },
  "language_info": {
   "codemirror_mode": {
    "name": "ipython",
    "version": 3
   },
   "file_extension": ".py",
   "mimetype": "text/x-python",
   "name": "python",
   "nbconvert_exporter": "python",
   "pygments_lexer": "ipython3",
   "version": "3.11.7"
  }
 },
 "nbformat": 4,
 "nbformat_minor": 5
}
